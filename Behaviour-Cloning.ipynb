{
 "cells": [
  {
   "cell_type": "code",
   "execution_count": null,
   "metadata": {
    "collapsed": false
   },
   "outputs": [],
   "source": [
    "from PIL import Image\n",
    "import numpy as np\n",
    "import pandas as pd\n",
    "\n",
    "driving_log_filename = './data/driving_log.csv'\n",
    "\n",
    "df = pd.read_csv(driving_log_filename)\n",
    "df.head()"
   ]
  },
  {
   "cell_type": "code",
   "execution_count": null,
   "metadata": {
    "collapsed": false,
    "scrolled": false
   },
   "outputs": [],
   "source": [
    "df.loc[:10]"
   ]
  },
  {
   "cell_type": "code",
   "execution_count": null,
   "metadata": {
    "collapsed": false
   },
   "outputs": [],
   "source": [
    "len(df)"
   ]
  },
  {
   "cell_type": "code",
   "execution_count": null,
   "metadata": {
    "collapsed": false
   },
   "outputs": [],
   "source": [
    "def batch_generator(df, batch_size):\n",
    "    while True:\n",
    "        df2 = df.sample(frac=1)\n",
    "        start, end = 0, batch_size\n",
    "\n",
    "        while end<=len(df):\n",
    "            sub = df2[start:end]\n",
    "            y_batch = sub['steering'].as_matrix()\n",
    "            X_batch = []\n",
    "\n",
    "            cameras = sub[['center', 'left', 'right']]\n",
    "            for i in range(len(sub)):\n",
    "                img = [np.asarray(Image.open('./data/'+ fn.strip())) for fn in list(cameras.iloc[i])]\n",
    "                X_batch.append(np.concatenate(img,2))\n",
    "\n",
    "            start += batch_size\n",
    "            end += batch_size\n",
    "\n",
    "            yield np.asarray(X_batch), y_batch\n",
    "\n",
    "\n",
    "    "
   ]
  },
  {
   "cell_type": "code",
   "execution_count": null,
   "metadata": {
    "collapsed": false
   },
   "outputs": [],
   "source": [
    "X, y = None, None\n",
    "for XX, yy in batch_generator(df, 2):\n",
    "    X, y = XX, yy\n",
    "    break"
   ]
  },
  {
   "cell_type": "code",
   "execution_count": null,
   "metadata": {
    "collapsed": false
   },
   "outputs": [],
   "source": [
    "# import csv\n",
    "# import os.path\n",
    "# import pickle\n",
    "\n",
    "# if not os.path.isfile(dataname):\n",
    "#     X = []\n",
    "#     y = []\n",
    "#     with open('./data/driving_log.csv', 'r') as csvfile:\n",
    "#         reader = csv.reader(csvfile, skipinitialspace=True)\n",
    "#         headers = next(reader)\n",
    "#         count = 0\n",
    "#         for row in reader:\n",
    "#             img = [np.asarray(Image.open('./data/' + fn.strip()).resize((80,40), Image.ANTIALIAS)) for fn in row[:3]]\n",
    "#             X.append(np.concatenate(img,2))\n",
    "#             y.append(float(row[3]))\n",
    "    \n",
    "#     X = np.array(X)\n",
    "#     y = np.array(y)\n",
    "    \n",
    "#     with open(dataname, 'wb') as handle:\n",
    "#         pickle.dump([X, y], handle, protocol = pickle.HIGHEST_PROTOCOL)\n",
    "        \n",
    "# else:\n",
    "#     with open(dataname, 'rb') as handle:\n",
    "#         X, y = pickle.load(handle)    \n",
    "            "
   ]
  },
  {
   "cell_type": "code",
   "execution_count": null,
   "metadata": {
    "collapsed": false
   },
   "outputs": [],
   "source": [
    "# X.shape"
   ]
  },
  {
   "cell_type": "code",
   "execution_count": null,
   "metadata": {
    "collapsed": false
   },
   "outputs": [],
   "source": [
    "from keras.models import Sequential\n",
    "from keras.layers.core import Flatten, Activation, Dense, Dropout, Lambda\n",
    "from keras.activations import relu, softmax\n",
    "from keras.layers.convolutional import Convolution2D\n",
    "from keras.layers.pooling import MaxPooling2D\n",
    "\n",
    "model = Sequential()\n",
    "model.add(Lambda(lambda x: x/255.0 - 0.5, input_shape=X.shape[1:]))\n",
    "model.add(Convolution2D(64, 5, 5, border_mode='valid'))\n",
    "model.add(MaxPooling2D(pool_size=(2, 2)))\n",
    "model.add(Dropout(0.5))\n",
    "model.add(Activation('relu'))\n",
    "model.add(Convolution2D(64, 3, 3, border_mode='valid'))\n",
    "model.add(MaxPooling2D(pool_size=(2, 2)))\n",
    "model.add(Dropout(0.5))\n",
    "model.add(Activation('relu'))\n",
    "model.add(Convolution2D(64, 3, 3, border_mode='valid'))\n",
    "model.add(MaxPooling2D(pool_size=(2, 2)))\n",
    "model.add(Dropout(0.5))\n",
    "model.add(Activation('relu'))\n",
    "model.add(Flatten())\n",
    "model.add(Dense(128))\n",
    "model.add(Activation('relu'))\n",
    "model.add(Dense(1))"
   ]
  },
  {
   "cell_type": "code",
   "execution_count": null,
   "metadata": {
    "collapsed": false
   },
   "outputs": [],
   "source": [
    "val_ratio = 0.2\n",
    "train_mask = np.random.rand(len(df)) < 1-val_ratio\n",
    "df_train = df[train_mask]\n",
    "df_val = df[~train_mask]"
   ]
  },
  {
   "cell_type": "code",
   "execution_count": null,
   "metadata": {
    "collapsed": false
   },
   "outputs": [],
   "source": [
    "model.compile('adam', 'mean_squared_error', ['mean_absolute_error'])\n",
    "batch_size = 128\n",
    "samples_per_epoch = (len(df_train)+batch_size-1)/batch_size\n",
    "history = model.fit_generator(batch_generator(df_train, batch_size), samples_per_epoch, nb_epoch=2, \n",
    "                              validation_data=batch_generator(df_val, batch_size),nb_val_samples=len(df_val))\n"
   ]
  },
  {
   "cell_type": "code",
   "execution_count": null,
   "metadata": {
    "collapsed": false
   },
   "outputs": [],
   "source": [
    "with open(\"model.json\", \"w\") as jsonfile:\n",
    "    jsonfile.write(model.to_json())\n",
    "model.save_weights(\"model.h5\")"
   ]
  }
 ],
 "metadata": {
  "anaconda-cloud": {},
  "git": {
   "suppress_outputs": true
  },
  "kernelspec": {
   "display_name": "Python [conda env:traffic]",
   "language": "python",
   "name": "conda-env-traffic-py"
  },
  "language_info": {
   "codemirror_mode": {
    "name": "ipython",
    "version": 3
   },
   "file_extension": ".py",
   "mimetype": "text/x-python",
   "name": "python",
   "nbconvert_exporter": "python",
   "pygments_lexer": "ipython3",
   "version": "3.5.2"
  }
 },
 "nbformat": 4,
 "nbformat_minor": 2
}