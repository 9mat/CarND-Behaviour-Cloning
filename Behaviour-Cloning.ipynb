{
 "cells": [
  {
   "cell_type": "code",
   "execution_count": null,
   "metadata": {
    "collapsed": false,
    "scrolled": false
   },
   "outputs": [],
   "source": [
    "import numpy as np\n",
    "import pandas as pd\n",
    "import cv2\n",
    "\n",
    "driving_log_filename = './data/driving_log.csv'\n",
    "\n",
    "df = pd.read_csv(driving_log_filename)\n",
    "df.head()"
   ]
  },
  {
   "cell_type": "code",
   "execution_count": null,
   "metadata": {
    "collapsed": false
   },
   "outputs": [],
   "source": [
    "% matplotlib inline\n",
    "import matplotlib.pyplot as plt\n",
    "\n",
    "def imshow(cv2img):\n",
    "    plt.imshow(cv2.cvtColor(cv2img, cv2.COLOR_BGR2RGB))\n",
    "    \n",
    "first_img = cv2.imread('./data/' + df['center'][0])\n",
    "imshow(first_img)\n",
    "plt.savefig('./img/src.png', bbox_inches='tight')\n",
    "plt.title('Original image')"
   ]
  },
  {
   "cell_type": "code",
   "execution_count": null,
   "metadata": {
    "collapsed": false
   },
   "outputs": [],
   "source": [
    "plt.hist(df['steering'],bins=20)\n",
    "plt.xlabel('steering angle')\n",
    "plt.ylabel('number of obs')\n",
    "plt.savefig('./img/hist.png', bbox_inches='tight')\n",
    "plt.title('Histogram of steering angle')"
   ]
  },
  {
   "cell_type": "code",
   "execution_count": null,
   "metadata": {
    "collapsed": false
   },
   "outputs": [],
   "source": [
    "print('Image size:',first_img.shape)"
   ]
  },
  {
   "cell_type": "code",
   "execution_count": null,
   "metadata": {
    "collapsed": false
   },
   "outputs": [],
   "source": [
    "height = first_img.shape[0]\n",
    "crop_top = height//3\n",
    "crop_bottom = 4*height//5\n",
    "target_size = (200,66)\n",
    "\n",
    "def jitter_brightness(img):\n",
    "    out = cv2.cvtColor(img,cv2.COLOR_BGR2HSV)\n",
    "    random_bright = .25 + np.random.uniform()\n",
    "    out[:,:,2] = out[:,:,2]*random_bright\n",
    "    out = cv2.cvtColor(out,cv2.COLOR_HSV2RGB)\n",
    "    return out\n",
    "\n",
    "def jitter_translation(img, steer, dist):\n",
    "    dx = dist*(np.random.uniform()-0.5)\n",
    "    dy = 40*(np.random.uniform()-0.5)\n",
    "    M = np.float32([[1,0,dx],[0,1,dy]])\n",
    "    rows, cols = img.shape[:2]\n",
    "    out = cv2.warpAffine(img, M, (cols,rows))\n",
    "    steer += dx/dist*2*.2\n",
    "    return out, steer\n",
    "\n",
    "def preprocess(img, yuv=True):\n",
    "    img = cv2.resize(img[crop_top:crop_bottom,:], target_size, interpolation=cv2.INTER_AREA)\n",
    "    return cv2.cvtColor(img, cv2.COLOR_BGR2YUV) if yuv else img\n",
    "\n",
    "def read_and_jitter(row):\n",
    "    cameras = ['center', 'left', 'right']\n",
    "    angle_offset = [0.0, 0.25, -0.25]\n",
    "    i = np.random.randint(3)\n",
    "    img_filename = './data/' + row[cameras[i]][0].strip()\n",
    "    img = cv2.imread(img_filename)\n",
    "    steer = row['steering'][0] + angle_offset [i]\n",
    "    \n",
    "    img = jitter_brightness(img)\n",
    "    img, steer = jitter_translation(img, steer, 100)\n",
    "    \n",
    "    if np.random.randint(2):\n",
    "        img = cv2.flip(img, 1)\n",
    "        steer = -steer\n",
    "    return img, steer\n",
    "\n",
    "post_processed = preprocess(first_img,False)\n",
    "imshow(post_processed)\n",
    "plt.savefig('./img/cropped.png', bbox_inches='tight')\n",
    "plt.title('Cropped image')"
   ]
  },
  {
   "cell_type": "code",
   "execution_count": null,
   "metadata": {
    "collapsed": false
   },
   "outputs": [],
   "source": [
    "n_cols = 3\n",
    "n_rows = 4\n",
    "import matplotlib.gridspec as gridspec\n",
    "\n",
    "fig = plt.figure(figsize=(n_cols*4,n_rows))\n",
    "gs1 = gridspec.GridSpec(n_rows,4*n_cols, top=1., bottom=0., right=1., left=0., hspace=0.,\n",
    "        wspace=0.)\n",
    "for i in range(n_cols*n_rows):\n",
    "    ax = plt.subplot(gs1[i*4:(i+1)*4])\n",
    "    img, steer = read_and_jitter(df.iloc[[0]])\n",
    "    plt.imshow(preprocess(img, False))\n",
    "    plt.axis('off')\n",
    "    ax.set_xticks([])\n",
    "    ax.set_yticks([])\n",
    "    ax.text(10,12,'{:.3f}'.format(steer), bbox={'facecolor':'green', 'alpha':0.5, 'pad':2})\n",
    "    ax.set_aspect('auto')\n",
    "    \n",
    "gs1.tight_layout(fig, rect=[0,0.03,1,0.97])\n",
    "plt.suptitle('Jittered images and respective steering angles', size=14)\n"
   ]
  },
  {
   "cell_type": "code",
   "execution_count": null,
   "metadata": {
    "collapsed": true
   },
   "outputs": [],
   "source": [
    "def batch_generator(df, straight_pr, batch_size=32):\n",
    "    batch_img = np.zeros((batch_size, *post_processed.shape))\n",
    "    batch_steer = np.zeros(batch_size)\n",
    "    while True:\n",
    "        for i in range(batch_size):\n",
    "            row = df.iloc[[np.random.randint(len(df))]].reset_index()\n",
    "            x, y = read_and_jitter(row)\n",
    "            if np.random.uniform() < straight_pr:\n",
    "                while abs(y) < 0.1: x, y = read_and_jitter(row)\n",
    "                    \n",
    "            batch_img[i] = preprocess(x)\n",
    "            batch_steer[i] = y\n",
    "        yield batch_img, batch_steer\n",
    "        "
   ]
  },
  {
   "cell_type": "code",
   "execution_count": null,
   "metadata": {
    "collapsed": true
   },
   "outputs": [],
   "source": [
    "def batch_generator_test(df, batch_size=32):\n",
    "    batch_img = np.zeros((batch_size, *post_processed.shape))\n",
    "    batch_steer = np.zeros(batch_size)\n",
    "    \n",
    "    start, end, n = 0, batch_size, len(df)\n",
    "    while end <= n:\n",
    "        j = 0\n",
    "        for i in range(start, min(end, n)):\n",
    "            row = df.iloc[[i]].reset_index()\n",
    "            img_filename = './data/' + row['center'][0].strip()\n",
    "            x = preprocess(cv2.imread(img_filename))\n",
    "            batch_img[j] = x\n",
    "            batch_steer[j] = row['steering'][0]\n",
    "            j += 1\n",
    "        start += batch_size\n",
    "        end += batch_size\n",
    "                                  \n",
    "        yield batch_img[:j], batch_steer[:j]\n"
   ]
  },
  {
   "cell_type": "code",
   "execution_count": null,
   "metadata": {
    "collapsed": false
   },
   "outputs": [],
   "source": [
    "from keras.models import Sequential\n",
    "from keras.layers.core import Flatten, Activation, Dense, Dropout, Lambda\n",
    "from keras.activations import relu, softmax\n",
    "from keras.layers.convolutional import Convolution2D\n",
    "from keras.layers.pooling import MaxPooling2D\n",
    "from keras.regularizers import l2\n",
    "\n",
    "model = Sequential()\n",
    "model.add(Lambda(lambda x: x/255.0 - 0.5, input_shape=post_processed.shape))\n",
    "model.add(Convolution2D(24, 5, 5, subsample=(2,2), W_regularizer=l2(0.01), border_mode='valid', init='he_normal'))\n",
    "model.add(Activation('relu'))\n",
    "model.add(Convolution2D(36, 5, 5, subsample=(2,2), W_regularizer=l2(0.01), border_mode='valid', init='he_normal'))\n",
    "model.add(Activation('relu'))\n",
    "model.add(Convolution2D(48, 5, 5, subsample=(2,2), W_regularizer=l2(0.01), border_mode='valid', init='he_normal'))\n",
    "model.add(Dropout(0.5))\n",
    "model.add(Activation('relu'))\n",
    "model.add(Convolution2D(64, 3, 3, subsample=(1,1), W_regularizer=l2(0.01), border_mode='valid', init='he_normal'))\n",
    "model.add(Activation('relu'))\n",
    "model.add(Convolution2D(64, 3, 3, subsample=(1,1), W_regularizer=l2(0.01), border_mode='valid', init='he_normal'))\n",
    "model.add(Dropout(0.5))\n",
    "model.add(Activation('relu'))\n",
    "model.add(Flatten())\n",
    "model.add(Dense(1024, W_regularizer=l2(0.01), init='he_normal'))\n",
    "model.add(Dropout(0.5))\n",
    "model.add(Activation('relu'))\n",
    "model.add(Dense(128, W_regularizer=l2(0.01), init='he_normal'))\n",
    "model.add(Activation('relu'))\n",
    "model.add(Dense(64, W_regularizer=l2(0.01), init='he_normal'))\n",
    "model.add(Activation('relu'))\n",
    "model.add(Dense(16, init='he_normal'))\n",
    "model.add(Activation('relu'))\n",
    "model.add(Dense(1, init='he_normal'))"
   ]
  },
  {
   "cell_type": "code",
   "execution_count": null,
   "metadata": {
    "collapsed": false,
    "scrolled": false
   },
   "outputs": [],
   "source": [
    "from IPython.display import SVG\n",
    "from keras.utils.visualize_util import model_to_dot\n",
    "try:\n",
    "    svg = SVG(model_to_dot(model, show_shapes=True, show_layer_names=False).create(prog='dot', format='svg'))\n",
    "    with open('model.svg', 'w') as svgfile:\n",
    "        svgfile.write(a.data)\n",
    "except:\n",
    "    svg = None\n",
    "    pass\n",
    "svg\n"
   ]
  },
  {
   "cell_type": "code",
   "execution_count": null,
   "metadata": {
    "collapsed": false
   },
   "outputs": [],
   "source": [
    "try:\n",
    "    from keras_diagram import ascii\n",
    "    print(ascii(model))\n",
    "except:\n",
    "    pass"
   ]
  },
  {
   "cell_type": "code",
   "execution_count": null,
   "metadata": {
    "collapsed": false
   },
   "outputs": [],
   "source": [
    "from sklearn.model_selection import train_test_split\n",
    "df_train, df_val = train_test_split(df)"
   ]
  },
  {
   "cell_type": "code",
   "execution_count": null,
   "metadata": {
    "collapsed": false
   },
   "outputs": [],
   "source": [
    "print('Validation set:', len(df_val))"
   ]
  },
  {
   "cell_type": "code",
   "execution_count": null,
   "metadata": {
    "collapsed": false
   },
   "outputs": [],
   "source": [
    "%matplotlib inline\n",
    "model.compile('adam', 'mean_squared_error', [keras.metrics.mean_absolute_percentage_error])\n",
    "samples_per_epoch = 20000\n",
    "\n",
    "for epoch in range(10):\n",
    "    straight_pr = 1.0/(1+epoch)\n",
    "    history = model.fit_generator(batch_generator(df_train, straight_pr),\n",
    "                                  samples_per_epoch,\n",
    "                                  validation_data = batch_generator_test(df_val),\n",
    "                                  nb_val_samples=1952,\n",
    "                                  nb_epoch=1, verbose=2)\n"
   ]
  },
  {
   "cell_type": "code",
   "execution_count": null,
   "metadata": {
    "collapsed": false
   },
   "outputs": [],
   "source": [
    "with open(\"model.json\", \"w\") as jsonfile:\n",
    "    jsonfile.write(model.to_json())\n",
    "model.save_weights(\"model.h5\")"
   ]
  }
 ],
 "metadata": {
  "anaconda-cloud": {},
  "git": {
   "suppress_outputs": true
  },
  "kernelspec": {
   "display_name": "Python [conda env:traffic]",
   "language": "python",
   "name": "conda-env-traffic-py"
  },
  "language_info": {
   "codemirror_mode": {
    "name": "ipython",
    "version": 3
   },
   "file_extension": ".py",
   "mimetype": "text/x-python",
   "name": "python",
   "nbconvert_exporter": "python",
   "pygments_lexer": "ipython3",
   "version": "3.5.2"
  }
 },
 "nbformat": 4,
 "nbformat_minor": 2
}